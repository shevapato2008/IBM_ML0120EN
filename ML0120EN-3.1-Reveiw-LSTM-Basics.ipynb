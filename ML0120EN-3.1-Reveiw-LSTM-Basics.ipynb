{
 "cells": [
  {
   "cell_type": "markdown",
   "metadata": {},
   "source": [
    "<a href=\"https://www.bigdatauniversity.com\"><img src = \"https://ibm.box.com/shared/static/jvcqp2iy2jlx2b32rmzdt0tx8lvxgzkp.png\" width = 300, align = \"center\"></a>\n",
    "\n",
    "# <center>RECURRENT NETWORKS IN DEEP LEARNING</center>"
   ]
  },
  {
   "cell_type": "markdown",
   "metadata": {},
   "source": [
    "## The Long Short-Term Memory Model\n",
    "Hello and welcome to this notebook. In this notebook, we will go over concepts of the Long Short-Term Memory (LSTM) model, a refinement of the original Recurrent Neural Network model. By the end of this notebook, you should be able to understand the Long Short-Term Memory model, the benefits and problems it solves, and its inner workings and calculations.\n",
    "\n",
    "### The Problem to be Solved\n",
    "**Long Short-Term Memory**, or **LSTM** for short, is one of the proposed solutions or upgrades to the **Recurrent Neural Network model**. The Recurrent Neural Network is a specialized type of Neural Network that solves the issue of <span style=\"background-color:yellow;\">**maintaining context for Sequential data**</span> -- such as Weather data, Stocks, Genes, etc. At each iterative step, the processing unit takes in an input and the current state of the network, and produces an output and a new state that is **re-fed into the network**.\n",
    "\n",
    "<img src=https://ibm.box.com/shared/static/v7p90neiaqghmpwawpiecmz9n7080m59.png width=\"720\"/>\n",
    "<center>*Representation of a Recurrent Neural Network*</center>\n",
    "\n",
    "However, this model has <span style=\"color:red;\">**some problems**</span>.\n",
    "+ It's very <span style=\"background-color:yellow;\">computationally expensive</span> to maintain the state for a large amount of units, even more so over a long amount of time.\n",
    "+ Additionally, Recurrent Networks are <span style=\"background-color:yellow;\">very sensitive to changes in their parameters</span>. As such, they are prone to different problems with their Gradient Descent optimizer -- they\n",
    "  - either grow exponentially (<span style=\"background-color:yellow;\">Exploding Gradient</span>)\n",
    "  - or drop down to near zero and stabilize (<span style=\"background-color:yellow;\">Vanishing Gradient</span>)\n",
    "\n",
    "&nbsp;&nbsp;&nbsp;&nbsp;&nbsp;&nbsp;&nbsp;both problems that greatly harm a model's learning capability.\n",
    "\n",
    "### Long Short-Term Memory: What is it?\n",
    "\n",
    "To solve these problems, <span style=\"background-color:yellow;\">Hochreiter and Schmidhuber published a paper in 1997</span> describing a way to keep information over long periods of time and additionally solve the oversensitivity to parameter changes, i.e., make backpropagating through the Recurrent Networks more viable.\n",
    "\n",
    "The Long Short-Term Memory, as it was called, was an abstraction of how computer memory works. It is \"bundled\" with whatever processing unit is implemented in the Recurrent Network, although outside of its flow, and is responsible for keeping, reading, and outputting information for the model. The way it works is simple: <span style=\"background-color:yellow;\">you have a linear unit, which is the information cell itself, surrounded by three logistic gates responsible for maintaining the data. One gate is for inputting data into the information cell, one is for outputting data from the input cell, and the last one is to keep or forget data depending on the needs of the network.</span>\n",
    "\n",
    "Thanks to that, it not only solves the problem of keeping states, because the network can choose to forget data whenever information is not needed, it also solves the gradient problems, since the Logistic Gates have a very nice derivative.\n",
    "\n",
    "### Long Short-Term Memory Architecture\n",
    "\n",
    "As seen before, the Long Short-Term Memory is composed of a linear unit surrounded by three logistic gates. The name for these gates vary from place to place, but the most usual names for them are the <span style=\"background-color:yellow;\">\"Input\" or \"Write\" Gate</span>, which handles the writing of data into the information cell, the <span style=\"background-color:yellow;\">\"Output\" or \"Read\" Gate</span>, which handles the sending of data back onto the Recurrent Network, and the <span style=\"background-color:yellow;\">\"Keep\" or \"Forget\" Gate</span>, which handles the maintaining and modification of the data stored in the information cell.\n",
    "\n",
    "<img src=https://ibm.box.com/shared/static/zx10duv5egw0baw6gh2hzsgr8ex45gsg.png width=\"720\"/>\n",
    "<center>*Diagram of the Long Short-Term Memory Unit*</center>\n",
    "\n",
    "The three gates are the centerpiece of the LSTM unit. The gates, when activated by the network, perform their respective functions. For example,\n",
    "+ the Input Gate will write whatever data it is passed onto the information cell,\n",
    "+ the Output Gate will return whatever data is in the information cell, and\n",
    "+ the Keep Gate will maintain the data in the information cell.\n",
    "\n",
    "These gates are analog and multiplicative, and as such, can modify the data based on the signal they are sent.\n",
    "\n",
    "---\n",
    "\n",
    "### Flow of Operations for LSTM Unit\n",
    "\n",
    "For example, <span style=\"background-color:yellow;\">an usual flow of operations for the LSTM unit</span> is as such:\n",
    "\n",
    "<br>\n",
    "\n",
    "**(1) Keep Gate**\n",
    "\n",
    "First off, the Keep Gate has to decide whether to keep or forget the data currently stored in memory. It receives both the input and the state of the Recurrent Network, and passes it through its <span style=\"background-color:yellow;\">Sigmoid activation</span>.\n",
    "  + 1: the LSTM unit should keep the data stored perfectly and\n",
    "  + 0: it should forget it entirely.\n",
    "\n",
    "Consider\n",
    "  + $S_{t-1} = \\text{previous state at time } t-1$\n",
    "  + $x_t = \\text{incoming input at time } t$\n",
    "  + $W_k = \\text{weight}$\n",
    "  + $B_k = \\text{bias}$\n",
    "  \n",
    "for the Keep Gate. Additionally, consider\n",
    "  + $Old_{t-1} = \\text{data previously in memory}$\n",
    "\n",
    "What happens can be summarized by this equation:\n",
    "\n",
    "$$\n",
    "\\begin{align}\n",
    "  K_t &= \\sigma \\Big( W_k \\times [S_{t-1}, \\ x_t] + B_k \\Big) \\\\\n",
    "  Old_t &= K_t \\times Old_{t-1}\n",
    "\\end{align}\n",
    "$$\n",
    "\n",
    "As you can see, $Old_{t-1}$ was multiplied by value was returned by the Keep Gate -- this value is written in the memory cell. Then, the input and state are passed on to the Input Gate, in which there is another Sigmoid activation applied.\n",
    "\n",
    "<br>\n",
    "\n",
    "**(2) Input Gate**\n",
    "\n",
    "Concurrently, the input is processed as normal by whatever processing unit is implemented in the network, and then multiplied by the Sigmoid activation's result, much like the Keep Gate. Consider\n",
    "\n",
    "+ $W_i = \\text{weight}$\n",
    "+ $B_i = \\text{bias}$\n",
    "+ $C_t = \\text{the result of the processing of the inputs}$\n",
    "+ $New_t = \\text{new data to be input into the memory cell}$ \n",
    "\n",
    "$$\n",
    "\\begin{align}\n",
    "  I_t &= \\sigma \\Big( W_i\\times[S_{t-1}, \\ x_t] + B_i \\Big) \\\\\n",
    "  New_t &= I_t \\times C_t\n",
    "\\end{align}\n",
    "$$\n",
    "\n",
    "This is then **added** to whatever value is still stored in memory.\n",
    "\n",
    "$$Cell_t = Old_t + New_t$$\n",
    "\n",
    "We now have the *candidate data* which is to be kept in the memory cell. The conjunction of the Keep and Input gates work in an analog manner, making it so that it is possible to keep part of the old data and add only part of the new data. <span style=\"background-color:yellow;\">Consider however, what would happen if the Forget Gate was set to 0 and the Input Gate was set to 1:</span>\n",
    "\n",
    "$$\n",
    "\\begin{align}\n",
    "  Old_t &= 0 \\times Old_{t-1}\\\\\n",
    "  New_t &= 1 \\times C_t\\\\\n",
    "  Cell_t &= C_t\n",
    "\\end{align}\n",
    "$$\n",
    "\n",
    "<span style=\"background-color:yellow;\">The old data would be totally forgotten and the new data would overwrite it completely.</span>\n",
    "\n",
    "<br>\n",
    "\n",
    "**(2) Output Gate**\n",
    "\n",
    "The Output Gate functions in a similar manner. To decide what we should output, we take the <span style=\"background-color:yellow;\">input data</span> and <span style=\"background-color:yellow;\">state</span> and pass it through a Sigmoid function as usual. The contents of our memory cell, however, are pushed onto a **`Tanh`** function to bind them between a value of -1 to 1. Consider $W_o$ and $B_o$ as the weight and bias for the Output Gate.\n",
    "\n",
    "$$\n",
    "\\begin{align}\n",
    "  O_t &= \\sigma \\Big( W_o \\times [S_{t-1}, \\ x_t] + B_o \\Big)\\\\\n",
    "  Output_t &= O_t \\times \\tanh(Cell_t)\n",
    "\\end{align}\n",
    "$$\n",
    "\n",
    "And that $Output_t$ is what is output into the Recurrent Network.\n",
    "\n",
    "<br/>\n",
    "<img width=\"384\" src=\"https://ibm.box.com/shared/static/rkr60528r3mz2fmtlpah8lqpg7mcsy0g.png\">\n",
    "<center>*The Logistic Function plotted*</Center>\n",
    "\n",
    "As mentioned many times, <span style=\"background-color:yellow;\">all three gates are logistic</span>. The reason for this is because it is <span style=\"background-color:yellow;\">very easy to backpropagate through them</span>, and as such, it is possible for the model to learn exactly _how_ it is supposed to use this structure. This is one of the reasons for which LSTM is a very strong structure. Additionally, this solves the gradient problems by being able to manipulate values through the gates themselves -- by passing the inputs and outputs through the gates, we have now a easily derivable function modifying our inputs.\n",
    "\n",
    "<span style=\"background-color:yellow;\">In regards to the problem of storing many states over a long period of time, LSTM handles this perfectly by only keeping whatever information is necessary and forgetting it whenever it is not needed anymore.</span> Therefore, LSTMs are a very elegant solution to both problems.\n",
    "\n"
   ]
  },
  {
   "cell_type": "markdown",
   "metadata": {},
   "source": [
    "### LSTM basics\n",
    "Lets first create a tiny LSTM network sample to underestand the architecture of LSTM networks."
   ]
  },
  {
   "cell_type": "markdown",
   "metadata": {},
   "source": [
    "We need to import the necessary modules for our code. We need **`numpy` and `tensorflow`**, obviously. Additionally, we can import directly the **`tensorflow.models.rnn.rnn`** model, which includes the function for building RNNs, and **`tensorflow.models.rnn.ptb.reader`** which is the helper module for getting the input data from the dataset we just downloaded.\n",
    "\n",
    "If you want to learm more take a look at https://www.tensorflow.org/versions/r0.11/api_docs/python/rnn_cell/"
   ]
  },
  {
   "cell_type": "code",
   "execution_count": 1,
   "metadata": {},
   "outputs": [],
   "source": [
    "import numpy as np\n",
    "import tensorflow as tf\n",
    "sess = tf.Session()"
   ]
  },
  {
   "cell_type": "markdown",
   "metadata": {},
   "source": [
    "We want to create a network that has only one LSTM cell. We have to pass 2 elements to LSTM, the __`prv_output`__ and __`prv_state`__, so called, __`h`__ and __`c`__. Therefore, we initialize a state vector, __`state`__.  Here, __`state`__ is a tuple with 2 elements, each one is of size `[1 x 4]`, one for passing __`prv_output`__ to next time step, and another for passing the __`prv_state`__ to next time stamp."
   ]
  },
  {
   "cell_type": "code",
   "execution_count": 2,
   "metadata": {},
   "outputs": [
    {
     "data": {
      "text/plain": [
       "(<tf.Tensor 'zeros:0' shape=(2, 4) dtype=float32>,\n",
       " <tf.Tensor 'zeros:0' shape=(2, 4) dtype=float32>)"
      ]
     },
     "execution_count": 2,
     "metadata": {},
     "output_type": "execute_result"
    }
   ],
   "source": [
    "LSTM_CELL_SIZE = 4  # output size (dimension), which is same as hidden size in the cell\n",
    "\n",
    "lstm_cell = tf.contrib.rnn.BasicLSTMCell(LSTM_CELL_SIZE, state_is_tuple = True)\n",
    "state = (tf.zeros([2, LSTM_CELL_SIZE]), ) * 2\n",
    "state"
   ]
  },
  {
   "cell_type": "markdown",
   "metadata": {},
   "source": [
    "Let's define a sample input. In this example, __`batch_size`__ = 2, and __`seq_len`__ = 6:"
   ]
  },
  {
   "cell_type": "code",
   "execution_count": 3,
   "metadata": {},
   "outputs": [
    {
     "name": "stdout",
     "output_type": "stream",
     "text": [
      "[[ 1.  2.  3.  4.  3.  2.]\n",
      " [ 3.  2.  2.  2.  2.  2.]]\n"
     ]
    }
   ],
   "source": [
    "sample_input = tf.constant([[1, 2, 3, 4, 3, 2], [3, 2, 2, 2, 2, 2]], dtype = tf.float32)\n",
    "print(sess.run(sample_input))"
   ]
  },
  {
   "cell_type": "markdown",
   "metadata": {},
   "source": [
    "Now, we can pass the input to __`lstm_cell`__, and check the new state:"
   ]
  },
  {
   "cell_type": "code",
   "execution_count": 4,
   "metadata": {},
   "outputs": [
    {
     "name": "stdout",
     "output_type": "stream",
     "text": [
      "LSTMStateTuple(c=array([[ 0.14302756, -0.21374086,  0.80374324,  0.14653303],\n",
      "       [-0.21586901,  0.26612467,  0.32489812,  0.30833322]], dtype=float32), h=array([[ 0.10993633, -0.12350125,  0.09232204,  0.06002492],\n",
      "       [-0.16038321,  0.20041755,  0.04375251,  0.19928519]], dtype=float32))\n"
     ]
    }
   ],
   "source": [
    "with tf.variable_scope(\"LSTM_sample1\"):\n",
    "    output, state_new = lstm_cell(sample_input, state)\n",
    "sess.run(tf.global_variables_initializer())\n",
    "print(sess.run(state_new))"
   ]
  },
  {
   "cell_type": "markdown",
   "metadata": {},
   "source": [
    "As we can see, the states has 2 parts, the new state, c, and also the output, h. Lets check the output again:"
   ]
  },
  {
   "cell_type": "code",
   "execution_count": 5,
   "metadata": {},
   "outputs": [
    {
     "name": "stdout",
     "output_type": "stream",
     "text": [
      "[[ 0.10993633 -0.12350125  0.09232204  0.06002492]\n",
      " [-0.16038321  0.20041755  0.04375251  0.19928519]]\n"
     ]
    }
   ],
   "source": [
    "print (sess.run(output))"
   ]
  },
  {
   "cell_type": "markdown",
   "metadata": {},
   "source": [
    "### Stacked LSTM basics\n",
    "What about if we want to have a RNN with stacked LSTM? For example, a 2-layer LSTM. In this case, the output of the first layer will become the input of the second."
   ]
  },
  {
   "cell_type": "markdown",
   "metadata": {},
   "source": [
    "Lets start with a new session:"
   ]
  },
  {
   "cell_type": "code",
   "execution_count": 6,
   "metadata": {
    "collapsed": true
   },
   "outputs": [],
   "source": [
    "sess = tf.Session()"
   ]
  },
  {
   "cell_type": "code",
   "execution_count": 7,
   "metadata": {
    "collapsed": true
   },
   "outputs": [],
   "source": [
    "LSTM_CELL_SIZE = 4  #4 hidden nodes = state_dim = the output_dim \n",
    "input_dim = 6\n",
    "num_layers = 2"
   ]
  },
  {
   "cell_type": "markdown",
   "metadata": {},
   "source": [
    "Lets create the stacked LSTM cell:"
   ]
  },
  {
   "cell_type": "code",
   "execution_count": 8,
   "metadata": {
    "collapsed": true
   },
   "outputs": [],
   "source": [
    "cells = []\n",
    "for _ in range(num_layers):\n",
    "    cell = tf.contrib.rnn.LSTMCell(LSTM_CELL_SIZE)\n",
    "    cells.append(cell)\n",
    "stacked_lstm = tf.contrib.rnn.MultiRNNCell(cells)"
   ]
  },
  {
   "cell_type": "markdown",
   "metadata": {},
   "source": [
    "Now we can create the RNN:"
   ]
  },
  {
   "cell_type": "code",
   "execution_count": 9,
   "metadata": {
    "collapsed": true
   },
   "outputs": [],
   "source": [
    "# Batch size x time steps x features.\n",
    "data = tf.placeholder(tf.float32, [None, None, input_dim])\n",
    "output, state = tf.nn.dynamic_rnn(cell, data, dtype=tf.float32)"
   ]
  },
  {
   "cell_type": "markdown",
   "metadata": {},
   "source": [
    "Lets say the input sequence length is 3, and the dimensionality of the inputs is 6. The input should be a Tensor of shape: [batch_size, max_time, dimension], in our case it would be (2, 3, 6)"
   ]
  },
  {
   "cell_type": "code",
   "execution_count": 10,
   "metadata": {},
   "outputs": [
    {
     "data": {
      "text/plain": [
       "[[[1, 2, 3, 4, 3, 2], [1, 2, 1, 1, 1, 2], [1, 2, 2, 2, 2, 2]],\n",
       " [[1, 2, 3, 4, 3, 2], [3, 2, 2, 1, 1, 2], [0, 0, 0, 0, 3, 2]]]"
      ]
     },
     "execution_count": 10,
     "metadata": {},
     "output_type": "execute_result"
    }
   ],
   "source": [
    "#Batch size x time steps x features.\n",
    "sample_input = [[[1,2,3,4,3,2], [1,2,1,1,1,2],[1,2,2,2,2,2]],[[1,2,3,4,3,2],[3,2,2,1,1,2],[0,0,0,0,3,2]]]\n",
    "sample_input"
   ]
  },
  {
   "cell_type": "markdown",
   "metadata": {},
   "source": [
    "we can now send our input to network:"
   ]
  },
  {
   "cell_type": "code",
   "execution_count": 11,
   "metadata": {},
   "outputs": [
    {
     "data": {
      "text/plain": [
       "array([[[  6.41652243e-03,   3.51893269e-02,   5.13511360e-01,\n",
       "          -6.32265396e-03],\n",
       "        [  5.39605448e-04,   6.89522624e-02,   1.09963939e-01,\n",
       "          -2.38909069e-02],\n",
       "        [ -2.38273684e-02,   9.56620127e-02,   1.45685837e-01,\n",
       "          -1.46623598e-02]],\n",
       "\n",
       "       [[  6.41652243e-03,   3.51893269e-02,   5.13511360e-01,\n",
       "          -6.32265396e-03],\n",
       "        [ -2.77208108e-02,  -4.86584008e-03,   5.58008373e-01,\n",
       "          -5.13376966e-02],\n",
       "        [ -5.06761037e-02,   1.03659391e-01,   2.06940784e-03,\n",
       "          -6.65227370e-03]]], dtype=float32)"
      ]
     },
     "execution_count": 11,
     "metadata": {},
     "output_type": "execute_result"
    }
   ],
   "source": [
    "sess.run(tf.global_variables_initializer())\n",
    "sess.run(output, feed_dict={data: sample_input})"
   ]
  },
  {
   "cell_type": "markdown",
   "metadata": {},
   "source": [
    "---"
   ]
  },
  {
   "cell_type": "markdown",
   "metadata": {},
   "source": [
    "# Function Reference\n",
    "\n",
    "| Function | Description |\n",
    "|:---------|:------------|\n",
    "|[**`tf.argmax`**](https://www.tensorflow.org/api_docs/python/tf/argmax)|Returns the index with the largest value across axes of a tensor.<br> Note that in case of ties the identity of the return value is not guaranteed.|\n",
    "|[**`tf.cast`**](https://www.tensorflow.org/api_docs/python/tf/cast)|Casts a tensor to a new type.|\n",
    "|[**`tf.contrib.rnn.BasicLSTMCell`**](https://www.tensorflow.org/api_docs/python/tf/contrib/rnn/BasicLSTMCell)|Basic LSTM recurrent network cell.<br>The implementation is based on: http://arxiv.org/abs/1409.2329.|\n",
    "|[**`tf.equal`**](https://www.tensorflow.org/api_docs/python/tf/equal)|Returns the truth value of (x == y) element-wise.|\n",
    "|[**`tf.nn.conv2d`**](https://www.tensorflow.org/api_docs/python/tf/nn/conv2d)|Computes a 2-D convolution given 4-D input and filter tensors.|\n",
    "|[**`tf.nn.max_pool`**](https://www.tensorflow.org/api_docs/python/tf/nn/max_pool)|Performs the max pooling on the input.|\n",
    "|[**`tf.nn.dropout`**](https://www.tensorflow.org/api_docs/python/tf/nn/dropout)|Computes dropout.|\n",
    "|[**`tf.nn.softmax`**](https://www.tensorflow.org/api_docs/python/tf/nn/softmax)|Computes softmax activations.|\n",
    "|[**`tf.random_normal`**](https://www.tensorflow.org/api_docs/python/tf/random_normal)|Outputs random values from a normal distribution.|\n",
    "|[**`tf.reshape`**](https://www.tensorflow.org/api_docs/python/tf/reshape)|Given `tensor`, this operation returns a `tensor` that has the same values as tensor with shape `shape`.|\n",
    "|[**`tf.train.AdamOptimizer`**](https://www.tensorflow.org/api_docs/python/tf/train/AdamOptimizer)|Optimizer that implements the Adam algorithm.|\n",
    "|[**`tf.truncated_normal`**](https://www.tensorflow.org/api_docs/python/tf/truncated_normal)|Outputs random values from a truncated normal distribution.|\n",
    "|[**`scipy.signal.convolve2d`**](https://docs.scipy.org/doc/scipy/reference/generated/scipy.signal.convolve2d.html)|Convolve two 2-dimensional arrays.|\n",
    "|[**`numpy.absolute`**](https://docs.scipy.org/doc/numpy/reference/generated/numpy.absolute.html)|Calculate the absolute value _element-wise_.|\n",
    "|[**`numpy.expand_dims`**](https://docs.scipy.org/doc/numpy-1.10.0/reference/generated/numpy.expand_dims.html)|Expand the shape of an array. Insert a new axis, corresponding to a given position in the array shape.|\n",
    "|[**`matplotlib.cm`**](https://matplotlib.org/api/cm_api.html#module-matplotlib.cm)|This module provides a large set of colormaps, functions for registering new colormaps and for getting<br>a colormap by name, and a mixin class for adding color mapping functionality.|\n",
    "|[**`matplotlib.pyplot.subplots`**](https://matplotlib.org/devdocs/api/_as_gen/matplotlib.pyplot.subplots.html)|Create a figure and a set of subplots.|"
   ]
  },
  {
   "cell_type": "markdown",
   "metadata": {},
   "source": [
    "---"
   ]
  },
  {
   "cell_type": "markdown",
   "metadata": {
    "collapsed": true
   },
   "source": [
    "## Want to learn more?\n",
    "\n",
    "Running deep learning programs usually needs a high performance platform. PowerAI speeds up deep learning and AI. Built on IBM's Power Systems, PowerAI is a scalable software platform that accelerates deep learning and AI with blazing performance for individual users or enterprises. The PowerAI platform supports popular machine learning libraries and dependencies including Tensorflow, Caffe, Torch, and Theano. You can download a [free version of PowerAI](https://cocl.us/ML0120EN_PAI).\n",
    "\n",
    "Also, you can use Data Science Experience to run these notebooks faster with bigger datasets. Data Science Experience is IBM's leading cloud solution for data scientists, built by data scientists. With Jupyter notebooks, RStudio, Apache Spark and popular libraries pre-packaged in the cloud, DSX enables data scientists to collaborate on their projects without having to install anything. Join the fast-growing community of DSX users today with a free account at [Data Science Experience](https://cocl.us/ML0120EN_DSX)This is the end of this lesson. Hopefully, now you have a deeper and intuitive understanding regarding the LSTM model. Thank you for reading this notebook, and good luck on your studies."
   ]
  },
  {
   "cell_type": "markdown",
   "metadata": {},
   "source": [
    "### Thanks for completing this lesson!\n",
    "\n",
    "Notebook created by: <a href=\"https://br.linkedin.com/in/walter-gomes-de-amorim-junior-624726121\">Walter Gomes de Amorim Junior</a>, <a href = \"https://linkedin.com/in/saeedaghabozorgi\"> Saeed Aghabozorgi </a></h4>"
   ]
  },
  {
   "cell_type": "markdown",
   "metadata": {
    "collapsed": true
   },
   "source": [
    "<hr>\n",
    "Copyright &copy; 2017 [IBM Cognitive Class](https://cognitiveclass.ai/?utm_source=ML0151&utm_medium=lab&utm_campaign=cclab). This notebook and its source code are released under the terms of the [MIT License](https://cognitiveclass.ai/mit-license/)."
   ]
  }
 ],
 "metadata": {
  "kernelspec": {
   "display_name": "Python [conda env:tensorflow2]",
   "language": "python",
   "name": "conda-env-tensorflow2-py"
  },
  "language_info": {
   "codemirror_mode": {
    "name": "ipython",
    "version": 2
   },
   "file_extension": ".py",
   "mimetype": "text/x-python",
   "name": "python",
   "nbconvert_exporter": "python",
   "pygments_lexer": "ipython2",
   "version": "2.7.13"
  },
  "widgets": {
   "state": {},
   "version": "1.1.2"
  }
 },
 "nbformat": 4,
 "nbformat_minor": 1
}
