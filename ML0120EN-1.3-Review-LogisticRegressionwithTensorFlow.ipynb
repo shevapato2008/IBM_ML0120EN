{
 "cells": [
  {
   "cell_type": "markdown",
   "metadata": {},
   "source": [
    "<a href=\"https://www.bigdatauniversity.com\"><img src = \"https://ibm.box.com/shared/static/jvcqp2iy2jlx2b32rmzdt0tx8lvxgzkp.png\" width = 300> </a>\n",
    "\n",
    "# LOGISTIC REGRESSION WITH TENSORFLOW"
   ]
  },
  {
   "cell_type": "markdown",
   "metadata": {},
   "source": [
    "## Table of Contents\n",
    "\n",
    "Logistic Regression is one of most important techniques in data science. It is usually used to solve the classic classification problem.\n",
    "\n",
    "<strong>This lesson covers the following concepts of Logistics Regression:</strong>\n",
    "<br>\n",
    "- <p><a href=\"#ref1\">Linear Regression vs Logistic Regression</a></p>\n",
    "- <p><a href=\"#ref2\">Utilizing Logistic Regression in TensorFlow</a></p>\n",
    "- <p><a href=\"#ref3\">Training</a></p>\n",
    "<p></p>\n",
    "----------------"
   ]
  },
  {
   "cell_type": "markdown",
   "metadata": {},
   "source": [
    "<a id=\"ref1\"></a>\n",
    "## What is different between Linear and Logistic Regression?\n",
    "\n",
    "While Linear Regression is suited for estimating continuous values (e.g. estimating house price), it isn’t the best tool for predicting the class of an observed data point. In order to estimate a classification, we need some sort of guidance on what would be the **most probable class** for that data point. For this, we use **Logistic Regression**.\n",
    "\n",
    "<div class=\"alert alert-success alertsuccess\" style=\"margin-top: 20px\">\n",
    "<font size = 3><strong>Recall linear regression:</strong></font>\n",
    "<br>\n",
    "<br>\n",
    "Linear regression finds a function that relates a continuous dependent variable, _y_, to some predictors (independent variables _x1_, _x2_, etc.). Simple linear regression assumes a function of the form:\n",
    "<br><br>\n",
    "$$\n",
    "y = w_0 + w_1 \\cdot x_1 + w_2 \\cdot x_2 + ...\n",
    "$$\n",
    "<br>\n",
    "and finds the values of _w0_, _w1_, _w2_, etc. The term _w0_ is the \"intercept\" or \"constant term\" (it's shown as _b_ in the formula below):\n",
    "<br><br>\n",
    "$$\n",
    "Y = WX + b\n",
    "$$\n",
    "<p></p>\n",
    "\n",
    "</div>\n",
    "\n",
    "Logistic Regression is a variation of Linear Regression, useful when the observed dependent variable, _y_, is categorical. It produces a formula that predicts the probability of the class label as a function of the independent variables.\n",
    "\n",
    "Despite the name logistic _regression_, it is actually a __probabilistic classification__ model. Logistic regression fits a special s-shaped curve by taking the linear regression and transforming the numeric estimate into a probability with the following function:\n",
    "\n",
    "$$\n",
    "ProbabilityOfaClass = \\theta(y) = \\frac{e^y}{1+e^y} = exp(y) / (1+exp(y)) = p\n",
    "$$\n",
    "\n",
    "which produces p-values between 0 (as y approaches minus infinity) and 1 (as y approaches plus infinity). This now becomes a special kind of non-linear regression.\n",
    "\n",
    "In this equation, _y_ is the regression result (the sum of the variables weighted by the coefficients), `exp` is the exponential function and $\\theta(y)$ is the [logistic function](http://en.wikipedia.org/wiki/Logistic_function), also called logistic curve. It is a common \"S\" shape (sigmoid curve), and was first developed for modelling population growth.\n",
    "\n",
    "You might also have seen this function before, in another configuration:\n",
    "\n",
    "$$\n",
    "ProbabilityOfaClass = \\theta(y) = \\frac{1}{1+e^{-x}}\n",
    "$$\n",
    "\n",
    "So, briefly, Logistic Regression passes the input through the logistic/sigmoid but then treats the result as a probability:\n",
    "\n",
    "<img\n",
    "src=\"https://ibm.box.com/shared/static/kgv9alcghmjcv97op4d6onkyxevk23b1.png\", width = \"400\", align = \"center\">\n"
   ]
  },
  {
   "cell_type": "markdown",
   "metadata": {},
   "source": [
    "-------------------------------"
   ]
  },
  {
   "cell_type": "markdown",
   "metadata": {},
   "source": [
    "<a id=\"ref2\"></a>\n",
    "# Utilizing Logistic Regression in TensorFlow\n",
    "\n",
    "For us to utilize Logistic Regression in TensorFlow, we first need to import whatever libraries we are going to use. To do so, you can run the code cell below."
   ]
  },
  {
   "cell_type": "code",
   "execution_count": 1,
   "metadata": {},
   "outputs": [
    {
     "name": "stderr",
     "output_type": "stream",
     "text": [
      "/home/frank/anaconda3/envs/tensorflow2/lib/python2.7/site-packages/sklearn/cross_validation.py:44: DeprecationWarning: This module was deprecated in version 0.18 in favor of the model_selection module into which all the refactored classes and functions are moved. Also note that the interface of the new CV iterators are different from that of this module. This module will be removed in 0.20.\n",
      "  \"This module will be removed in 0.20.\", DeprecationWarning)\n"
     ]
    }
   ],
   "source": [
    "import tensorflow as tf\n",
    "import pandas as pd\n",
    "import numpy as np\n",
    "import time\n",
    "from sklearn.datasets import load_iris\n",
    "from sklearn.cross_validation import train_test_split\n",
    "import matplotlib.pyplot as plt"
   ]
  },
  {
   "cell_type": "markdown",
   "metadata": {},
   "source": [
    "Next, we will load the dataset we are going to use. In this case, we are utilizing the `iris` dataset, which is inbuilt -- so there's no need to do any preprocessing and we can jump right into manipulating it. We separate the dataset into _xs_ and _ys_, and then into training _xs_ and _ys_ and testing _xs_ and _ys_, (pseudo-)randomly."
   ]
  },
  {
   "cell_type": "code",
   "execution_count": 2,
   "metadata": {
    "collapsed": true
   },
   "outputs": [],
   "source": [
    "iris = load_iris()\n",
    "iris_X, iris_y = iris.data[:-1,:], iris.target[:-1]\n",
    "\n",
    "# Use get_dummies() function in pandas library to onvert categorical variable into dummy/indicator variables\n",
    "iris_y = pd.get_dummies(iris_y).values\n",
    "\n",
    "# Use train_test_split() function from sklearn.model to split the training and test data at the same time\n",
    "trainX, testX, trainY, testY = train_test_split(iris_X, iris_y, test_size = 0.33, random_state = 42)"
   ]
  },
  {
   "cell_type": "markdown",
   "metadata": {},
   "source": [
    "> __Note__\n",
    "> + [__`get_dummies()`__](https://pandas.pydata.org/pandas-docs/stable/generated/pandas.get_dummies.html) from __`pandas`__ <br>\n",
    "> + [__`train_test_split()`__](http://scikit-learn.org/stable/modules/generated/sklearn.model_selection.train_test_split.html) from __`scikitlearn.model`__"
   ]
  },
  {
   "cell_type": "markdown",
   "metadata": {},
   "source": [
    "Now we define x and y. <span style=\"background-color:yellow;\">These placeholders will hold our iris data (both the features and label matrices), and help pass them along to different parts of the algorithm</span>. You can consider placeholders as empty shells into which we insert our data. We also need to give them shapes which correspond to the shape of our data. Later, we will insert data into these placeholders by <span style=\"background-color:yellow;\">“feeding” the placeholders the data</span> via a \"__`feed_dict`__\" (__Feed Dictionary__).\n",
    "\n",
    "### Why use Placeholders?  \n",
    "1) This feature of TensorFlow allows us to create an algorithm which accepts data and knows something about the shape of the data without knowing the amount of data going in. <br><br>\n",
    "2) When we insert “batches” of data in training, we can easily adjust how many examples we train on in a single step without changing the entire algorithm."
   ]
  },
  {
   "cell_type": "code",
   "execution_count": 3,
   "metadata": {},
   "outputs": [
    {
     "data": {
      "text/plain": [
       "(99, 4)"
      ]
     },
     "execution_count": 3,
     "metadata": {},
     "output_type": "execute_result"
    }
   ],
   "source": [
    "trainX.shape"
   ]
  },
  {
   "cell_type": "code",
   "execution_count": 4,
   "metadata": {},
   "outputs": [
    {
     "data": {
      "text/plain": [
       "array([[ 5.7,  3. ,  4.2,  1.2],\n",
       "       [ 6.5,  3. ,  5.8,  2.2],\n",
       "       [ 5.6,  3. ,  4.5,  1.5],\n",
       "       [ 5.1,  3.5,  1.4,  0.2],\n",
       "       [ 6.9,  3.1,  5.1,  2.3]])"
      ]
     },
     "execution_count": 4,
     "metadata": {},
     "output_type": "execute_result"
    }
   ],
   "source": [
    "trainX[:5]"
   ]
  },
  {
   "cell_type": "code",
   "execution_count": 5,
   "metadata": {},
   "outputs": [
    {
     "data": {
      "text/plain": [
       "(99, 3)"
      ]
     },
     "execution_count": 5,
     "metadata": {},
     "output_type": "execute_result"
    }
   ],
   "source": [
    "trainY.shape"
   ]
  },
  {
   "cell_type": "code",
   "execution_count": 6,
   "metadata": {},
   "outputs": [
    {
     "data": {
      "text/plain": [
       "array([[0, 1, 0],\n",
       "       [0, 0, 1],\n",
       "       [0, 1, 0],\n",
       "       [1, 0, 0],\n",
       "       [0, 0, 1]], dtype=uint8)"
      ]
     },
     "execution_count": 6,
     "metadata": {},
     "output_type": "execute_result"
    }
   ],
   "source": [
    "trainY[:5]"
   ]
  },
  {
   "cell_type": "code",
   "execution_count": 7,
   "metadata": {
    "collapsed": true
   },
   "outputs": [],
   "source": [
    "# numFeatures is the number of features in our input data.\n",
    "# In the iris dataset, this number is '4'.\n",
    "numFeatures = trainX.shape[1]\n",
    "\n",
    "# numLabels is the number of classes our data points can be in.\n",
    "# In the iris dataset, this number is '3'.\n",
    "numLabels = trainY.shape[1]\n",
    "\n",
    "\n",
    "# Placeholders\n",
    "# 'None' means TensorFlow shouldn't expect a fixed number in that dimension\n",
    "X = tf.placeholder(tf.float32, [None, numFeatures]) # Iris has 4 features, so X is a tensor to hold our data.\n",
    "yGold = tf.placeholder(tf.float32, [None, numLabels]) # This will be our correct answers matrix for 3 classes."
   ]
  },
  {
   "cell_type": "markdown",
   "metadata": {},
   "source": [
    "### Set model weights and bias\n",
    "\n",
    "Much like Linear Regression, we need a shared variable weight matrix for Logistic Regression. We initialize both `W` and `b` as tensors full of zeros. Since we are going to learn `W` and `b`, their initial value doesn't matter too much. These variables are the objects which define the structure of our regression model, and we can save them after they’ve been trained so we can reuse them later.\n",
    "\n",
    "We define two TensorFlow variables as our parameters. These variables will hold the weights and biases of our logistic regression and they will be continually updated during training. \n",
    "\n",
    "Notice that `W` has a shape of [4, 3] because we want to multiply the 4-dimensional input vectors by it to produce 3-dimensional vectors of evidence for the difference classes. `b` has a shape of [3] so we can add it to the output. Moreover, unlike our placeholders above which are essentially empty shells waiting to be fed data, <span style=\"background-color:yellow;\">TensorFlow variables need to be initialized with values, e.g. with zeros</span>."
   ]
  },
  {
   "cell_type": "code",
   "execution_count": 8,
   "metadata": {
    "collapsed": true
   },
   "outputs": [],
   "source": [
    "W = tf.Variable(tf.zeros([4, 3]))  # 4-dimensional input and 3 classes\n",
    "b = tf.Variable(tf.zeros([3]))     # 3-dimensional output [0,0,1],[0,1,0],[1,0,0]"
   ]
  },
  {
   "cell_type": "code",
   "execution_count": 9,
   "metadata": {
    "collapsed": true
   },
   "outputs": [],
   "source": [
    "# Randomly sample from a normal distribution with standard deviation .01\n",
    "\n",
    "weights = tf.Variable(tf.random_normal([numFeatures,numLabels],\n",
    "                                       mean=0,\n",
    "                                       stddev=0.01,\n",
    "                                       name=\"weights\"))\n",
    "\n",
    "bias = tf.Variable(tf.random_normal([1,numLabels],\n",
    "                                    mean=0,\n",
    "                                    stddev=0.01,\n",
    "                                    name=\"bias\"))"
   ]
  },
  {
   "cell_type": "markdown",
   "metadata": {},
   "source": [
    "###  Logistic Regression model\n",
    "\n",
    "We now define our operations in order to properly run the Logistic Regression. Logistic regression is typically thought of as a single equation:\n",
    "\n",
    "$$\n",
    "ŷ =sigmoid(WX+b)\n",
    "$$\n",
    "\n",
    "However, for the sake of clarity, we can have it broken into its three main components: \n",
    "- a weight times features matrix multiplication operation, \n",
    "- a summation of the weighted features and a bias term, \n",
    "- and finally the application of a sigmoid function. \n",
    "\n",
    "As such, you will find these components defined as three separate operations below.\n"
   ]
  },
  {
   "cell_type": "code",
   "execution_count": 10,
   "metadata": {
    "collapsed": true
   },
   "outputs": [],
   "source": [
    "# Three-component breakdown of the Logistic Regression equation.\n",
    "# Note that these feed into each other.\n",
    "apply_weights_OP = tf.matmul(X, weights, name=\"apply_weights\")  # XW\n",
    "add_bias_OP = tf.add(apply_weights_OP, bias, name=\"add_bias\")   # XW + b\n",
    "activation_OP = tf.nn.sigmoid(add_bias_OP, name=\"activation\")   # sigmoid activation"
   ]
  },
  {
   "cell_type": "markdown",
   "metadata": {},
   "source": [
    "As we have seen before, the function we are going to use is the _logistic function_ $(\\frac{1}{1+e^{-x}})$, which is fed the input data after applying weights and bias. In TensorFlow, this function is implemented as the `nn.sigmoid` function. Effectively, this fits the weighted input with bias into a 0-100 percent curve, which is the probability function we want."
   ]
  },
  {
   "cell_type": "markdown",
   "metadata": {},
   "source": [
    "-------------------------------------"
   ]
  },
  {
   "cell_type": "markdown",
   "metadata": {},
   "source": [
    "<a id=\"ref3\"></a>\n",
    "# Training\n",
    "\n",
    "The learning algorithm is how we search for the best weight vector (${\\bf w}$). This search is an optimization problem looking for the hypothesis that optimizes an error/cost measure.\n",
    "\n",
    "__What tell us our model is bad?__  \n",
    "The Cost or Loss of the model, so what we want is to minimize that. \n",
    "\n",
    "__What is the cost function in our model?__  \n",
    "The cost function we are going to utilize is the Squared Mean Error loss function.\n",
    "\n",
    "__How to minimize the cost function?__   \n",
    "We can't use __least-squares linear regression__ here, so we will use [gradient descent](http://en.wikipedia.org/wiki/Gradient_descent) instead. Specifically, we will use batch gradient descent which calculates the gradient from all data points in the data set.\n",
    "\n",
    "### Cost function\n",
    "Before defining our cost function, we need to define how long we are going to train and how should we define the learning rate."
   ]
  },
  {
   "cell_type": "markdown",
   "metadata": {},
   "source": [
    "> __Note__\n",
    "> + [__`tf.train.exponential_decay()`__](https://www.tensorflow.org/api_docs/python/tf/train/exponential_decay): Applies exponential decay to the learning rate. <br>\n",
    "> + [__`tf.nn.l2_loss()`__](https://www.tensorflow.org/api_docs/python/tf/nn/l2_loss): Computes half the L2 norm of a tensor without the square root operation.\n",
    "> + [__`tf.train.GradientDescentOptimizer`__](https://www.tensorflow.org/api_docs/python/tf/train/GradientDescentOptimizer): Optimizer that implements the gradient descent algorithm.\n",
    "> + [__`tf.equal`__](https://www.tensorflow.org/api_docs/python/tf/equal): Returns the truth value of (x == y) element-wise.\n",
    "> + [__`tf.argmax`__](https://www.tensorflow.org/api_docs/python/tf/argmax): Returns the index with the largest value across axes of a tensor."
   ]
  },
  {
   "cell_type": "code",
   "execution_count": 11,
   "metadata": {
    "collapsed": true
   },
   "outputs": [],
   "source": [
    "# Number of Epochs in our training\n",
    "numEpochs = 700\n",
    "\n",
    "# Defining our learning rate iterations (decay)\n",
    "learningRate = tf.train.exponential_decay(learning_rate=0.0008,\n",
    "                                          global_step= 1,\n",
    "                                          decay_steps=trainX.shape[0],\n",
    "                                          decay_rate= 0.95,\n",
    "                                          staircase=True)"
   ]
  },
  {
   "cell_type": "code",
   "execution_count": 12,
   "metadata": {
    "collapsed": true
   },
   "outputs": [],
   "source": [
    "#Defining our cost function - Squared Mean Error\n",
    "cost_OP = tf.nn.l2_loss(activation_OP-yGold, name=\"squared_error_cost\")\n",
    "\n",
    "#Defining our Gradient Descent\n",
    "training_OP = tf.train.GradientDescentOptimizer(learningRate).minimize(cost_OP)"
   ]
  },
  {
   "cell_type": "markdown",
   "metadata": {},
   "source": [
    "Now we move on to actually running our operations. We will start with the operations involved in the prediction phase (i.e. the logistic regression itself).\n",
    "\n",
    "First, we need to initialize our weights and biases with zeros or random values via the inbuilt Initialization Op, __`tf.initialize_all_variables()`__. This Initialization Op will become a node in our computational graph, and when we put the graph into a session, then the Op will run and create the variables."
   ]
  },
  {
   "cell_type": "code",
   "execution_count": 13,
   "metadata": {
    "collapsed": true
   },
   "outputs": [],
   "source": [
    "# Create a tensorflow session\n",
    "sess = tf.Session()\n",
    "\n",
    "# Initialize our weights and biases variables.\n",
    "init_OP = tf.global_variables_initializer()\n",
    "\n",
    "# Initialize all tensorflow variables\n",
    "sess.run(init_OP)"
   ]
  },
  {
   "cell_type": "markdown",
   "metadata": {},
   "source": [
    "We also want some additional operations to keep track of our model's efficiency over time. We can do this like so:"
   ]
  },
  {
   "cell_type": "code",
   "execution_count": 14,
   "metadata": {
    "collapsed": true
   },
   "outputs": [],
   "source": [
    "# argmax(activation_OP, 1) returns the label with the most probability\n",
    "# argmax(yGold, 1) is the correct label\n",
    "correct_predictions_OP = tf.equal(tf.argmax(activation_OP,1),tf.argmax(yGold,1))\n",
    "\n",
    "# If every false prediction is 0 and every true prediction is 1, the average returns us the accuracy\n",
    "accuracy_OP = tf.reduce_mean(tf.cast(correct_predictions_OP, \"float\"))\n",
    "\n",
    "# Summary op for regression output\n",
    "activation_summary_OP = tf.summary.histogram(\"output\", activation_OP)\n",
    "\n",
    "# Summary op for accuracy\n",
    "accuracy_summary_OP = tf.summary.scalar(\"accuracy\", accuracy_OP)\n",
    "\n",
    "# Summary op for cost\n",
    "cost_summary_OP = tf.summary.scalar(\"cost\", cost_OP)\n",
    "\n",
    "# Summary ops to check how variables (W, b) are updating after each iteration\n",
    "weightSummary = tf.summary.histogram(\"weights\", weights.eval(session=sess))\n",
    "biasSummary = tf.summary.histogram(\"biases\", bias.eval(session=sess))\n",
    "\n",
    "# Merge all summaries\n",
    "merged = tf.summary.merge([activation_summary_OP, accuracy_summary_OP, cost_summary_OP, weightSummary, biasSummary])\n",
    "\n",
    "# Summary writer\n",
    "writer = tf.summary.FileWriter(\"summary_logs\", sess.graph)"
   ]
  },
  {
   "cell_type": "markdown",
   "metadata": {},
   "source": [
    "Now we can define and run the actual training loop, like this:"
   ]
  },
  {
   "cell_type": "code",
   "execution_count": 15,
   "metadata": {},
   "outputs": [
    {
     "name": "stdout",
     "output_type": "stream",
     "text": [
      "step 0, training accuracy 0.333333, cost 34.3181, change in cost 34.3181\n",
      "step 10, training accuracy 0.555556, cost 29.9986, change in cost 4.3195\n",
      "step 20, training accuracy 0.646465, cost 28.0805, change in cost 1.91809\n",
      "step 30, training accuracy 0.646465, cost 26.4596, change in cost 1.62086\n",
      "step 40, training accuracy 0.646465, cost 25.1106, change in cost 1.34901\n",
      "step 50, training accuracy 0.646465, cost 23.9942, change in cost 1.11642\n",
      "step 60, training accuracy 0.646465, cost 23.0686, change in cost 0.925581\n",
      "step 70, training accuracy 0.646465, cost 22.2964, change in cost 0.772188\n",
      "step 80, training accuracy 0.646465, cost 21.6466, change in cost 0.649809\n",
      "step 90, training accuracy 0.646465, cost 21.0945, change in cost 0.552139\n",
      "step 100, training accuracy 0.666667, cost 20.6206, change in cost 0.473837\n",
      "step 110, training accuracy 0.666667, cost 20.21, change in cost 0.410627\n",
      "step 120, training accuracy 0.666667, cost 19.8508, change in cost 0.359179\n",
      "step 130, training accuracy 0.666667, cost 19.5339, change in cost 0.316948\n",
      "step 140, training accuracy 0.666667, cost 19.2519, change in cost 0.281982\n",
      "step 150, training accuracy 0.666667, cost 18.9991, change in cost 0.252789\n",
      "step 160, training accuracy 0.686869, cost 18.7709, change in cost 0.22821\n",
      "step 170, training accuracy 0.686869, cost 18.5635, change in cost 0.207357\n",
      "step 180, training accuracy 0.69697, cost 18.374, change in cost 0.189543\n",
      "step 190, training accuracy 0.717172, cost 18.1998, change in cost 0.174206\n",
      "step 200, training accuracy 0.717172, cost 18.0389, change in cost 0.160921\n",
      "step 210, training accuracy 0.737374, cost 17.8895, change in cost 0.149342\n",
      "step 220, training accuracy 0.737374, cost 17.7503, change in cost 0.139194\n",
      "step 230, training accuracy 0.747475, cost 17.6201, change in cost 0.130241\n",
      "step 240, training accuracy 0.757576, cost 17.4978, change in cost 0.122311\n",
      "step 250, training accuracy 0.777778, cost 17.3825, change in cost 0.115248\n",
      "step 260, training accuracy 0.787879, cost 17.2736, change in cost 0.108929\n",
      "step 270, training accuracy 0.787879, cost 17.1703, change in cost 0.103252\n",
      "step 280, training accuracy 0.787879, cost 17.0722, change in cost 0.0981216\n",
      "step 290, training accuracy 0.79798, cost 16.9787, change in cost 0.093483\n",
      "step 300, training accuracy 0.79798, cost 16.8895, change in cost 0.0892563\n",
      "step 310, training accuracy 0.79798, cost 16.8041, change in cost 0.0854034\n",
      "step 320, training accuracy 0.79798, cost 16.7222, change in cost 0.0818748\n",
      "step 330, training accuracy 0.79798, cost 16.6436, change in cost 0.0786343\n",
      "step 340, training accuracy 0.808081, cost 16.5679, change in cost 0.0756454\n",
      "step 350, training accuracy 0.828283, cost 16.495, change in cost 0.0728817\n",
      "step 360, training accuracy 0.828283, cost 16.4247, change in cost 0.0703259\n",
      "step 370, training accuracy 0.838384, cost 16.3568, change in cost 0.0679417\n",
      "step 380, training accuracy 0.838384, cost 16.291, change in cost 0.065731\n",
      "step 390, training accuracy 0.848485, cost 16.2274, change in cost 0.0636597\n",
      "step 400, training accuracy 0.848485, cost 16.1657, change in cost 0.0617256\n",
      "step 410, training accuracy 0.848485, cost 16.1057, change in cost 0.0599079\n",
      "step 420, training accuracy 0.848485, cost 16.0475, change in cost 0.0582008\n",
      "step 430, training accuracy 0.848485, cost 15.991, change in cost 0.0565929\n",
      "step 440, training accuracy 0.868687, cost 15.9359, change in cost 0.0550795\n",
      "step 450, training accuracy 0.868687, cost 15.8822, change in cost 0.0536404\n",
      "step 460, training accuracy 0.878788, cost 15.83, change in cost 0.0522852\n",
      "step 470, training accuracy 0.878788, cost 15.779, change in cost 0.0509949\n",
      "step 480, training accuracy 0.878788, cost 15.7292, change in cost 0.049778\n",
      "step 490, training accuracy 0.878788, cost 15.6806, change in cost 0.0486116\n",
      "step 500, training accuracy 0.878788, cost 15.6331, change in cost 0.0474987\n",
      "step 510, training accuracy 0.878788, cost 15.5866, change in cost 0.0464478\n",
      "step 520, training accuracy 0.878788, cost 15.5412, change in cost 0.0454311\n",
      "step 530, training accuracy 0.888889, cost 15.4967, change in cost 0.0444689\n",
      "step 540, training accuracy 0.89899, cost 15.4532, change in cost 0.0435429\n",
      "step 550, training accuracy 0.89899, cost 15.4105, change in cost 0.042655\n",
      "step 560, training accuracy 0.89899, cost 15.3687, change in cost 0.0418043\n",
      "step 570, training accuracy 0.89899, cost 15.3277, change in cost 0.0409889\n",
      "step 580, training accuracy 0.89899, cost 15.2875, change in cost 0.0401993\n",
      "step 590, training accuracy 0.909091, cost 15.2481, change in cost 0.039444\n",
      "step 600, training accuracy 0.909091, cost 15.2094, change in cost 0.0387144\n",
      "step 610, training accuracy 0.909091, cost 15.1714, change in cost 0.0380106\n",
      "step 620, training accuracy 0.909091, cost 15.134, change in cost 0.0373335\n",
      "step 630, training accuracy 0.909091, cost 15.0973, change in cost 0.0366802\n",
      "step 640, training accuracy 0.909091, cost 15.0613, change in cost 0.0360451\n",
      "step 650, training accuracy 0.909091, cost 15.0259, change in cost 0.03543\n",
      "step 660, training accuracy 0.909091, cost 14.991, change in cost 0.0348396\n",
      "step 670, training accuracy 0.909091, cost 14.9568, change in cost 0.0342665\n",
      "step 680, training accuracy 0.909091, cost 14.9231, change in cost 0.0337076\n",
      "step 690, training accuracy 0.909091, cost 14.8899, change in cost 0.0331697\n",
      "final accuracy on test set: 0.9\n"
     ]
    }
   ],
   "source": [
    "# Initialize reporting variables\n",
    "cost = 0\n",
    "diff = 1\n",
    "epoch_values = []\n",
    "accuracy_values = []\n",
    "cost_values = []\n",
    "\n",
    "# Training epochs\n",
    "for i in range(numEpochs):\n",
    "    if i > 1 and diff < .0001:\n",
    "        print(\"change in cost %g; convergence.\"%diff)\n",
    "        break\n",
    "    else:\n",
    "        # Run training step\n",
    "        step = sess.run(training_OP, feed_dict={X: trainX, yGold: trainY})\n",
    "        # Report occasional stats\n",
    "        if i % 10 == 0:\n",
    "            # Add epoch to epoch_values\n",
    "            epoch_values.append(i)\n",
    "            # Generate accuracy stats on test data\n",
    "            train_accuracy, newCost = sess.run([accuracy_OP, cost_OP], feed_dict={X: trainX, yGold: trainY})\n",
    "            # Add accuracy to live graphing variable\n",
    "            accuracy_values.append(train_accuracy)\n",
    "            # Add cost to live graphing variable\n",
    "            cost_values.append(newCost)\n",
    "            # Re-assign values for variables\n",
    "            diff = abs(newCost - cost)\n",
    "            cost = newCost\n",
    "\n",
    "            #generate print statements\n",
    "            print(\"step %d, training accuracy %g, cost %g, change in cost %g\"%(i, train_accuracy, newCost, diff))\n",
    "\n",
    "\n",
    "# How well do we perform on held-out test data?\n",
    "print(\"final accuracy on test set: %s\" %str(sess.run(accuracy_OP, \n",
    "                                                     feed_dict={X: testX, \n",
    "                                                                yGold: testY})))"
   ]
  },
  {
   "cell_type": "markdown",
   "metadata": {},
   "source": [
    "__Why don't we plot the cost to see how it behaves?__"
   ]
  },
  {
   "cell_type": "code",
   "execution_count": 16,
   "metadata": {},
   "outputs": [
    {
     "name": "stderr",
     "output_type": "stream",
     "text": [
      "/home/frank/anaconda3/envs/tensorflow2/lib/python2.7/site-packages/numpy/core/fromnumeric.py:2909: RuntimeWarning: Mean of empty slice.\n",
      "  out=out, **kwargs)\n",
      "/home/frank/anaconda3/envs/tensorflow2/lib/python2.7/site-packages/numpy/core/_methods.py:80: RuntimeWarning: invalid value encountered in double_scalars\n",
      "  ret = ret.dtype.type(ret / rcount)\n"
     ]
    },
    {
     "data": {
      "image/png": "[encoded data removed]",
      "text/plain": [
       "<matplotlib.figure.Figure at 0x7fc040661a50>"
      ]
     },
     "metadata": {},
     "output_type": "display_data"
    }
   ],
   "source": [
    "%matplotlib inline\n",
    "import numpy as np\n",
    "import matplotlib.pyplot as plt\n",
    "plt.plot([np.mean(cost_values[i-50:i]) for i in range(len(cost_values))])\n",
    "plt.show()"
   ]
  },
  {
   "cell_type": "markdown",
   "metadata": {
    "collapsed": true
   },
   "source": [
    "Assuming no parameters were changed, you should reach a peak accuracy of 90% at the end of training, which is commendable. Try changing the parameters such as the length of training, and maybe some operations to see how the model behaves. Does it take much longer? How is the performance?"
   ]
  },
  {
   "cell_type": "markdown",
   "metadata": {},
   "source": [
    "------------------------------------"
   ]
  },
  {
   "cell_type": "markdown",
   "metadata": {},
   "source": [
    "## Want to learn more?\n",
    "\n",
    "Running deep learning programs usually needs a high performance platform. PowerAI speeds up deep learning and AI. Built on IBM's Power Systems, PowerAI is a scalable software platform that accelerates deep learning and AI with blazing performance for individual users or enterprises. The PowerAI platform supports popular machine learning libraries and dependencies including Tensorflow, Caffe, Torch, and Theano. You can download a [free version of PowerAI](https://cocl.us/ML0120EN_PAI).\n",
    "\n",
    "Also, you can use Data Science Experience to run these notebooks faster with bigger datasets. Data Science Experience is IBM's leading cloud solution for data scientists, built by data scientists. With Jupyter notebooks, RStudio, Apache Spark and popular libraries pre-packaged in the cloud, DSX enables data scientists to collaborate on their projects without having to install anything. Join the fast-growing community of DSX users today with a free account at [Data Science Experience](https://cocl.us/ML0120EN_DSX)This is the end of this lesson. Hopefully, now you have a deeper and intuitive understanding regarding the LSTM model. Thank you for reading this notebook, and good luck on your studies."
   ]
  },
  {
   "cell_type": "markdown",
   "metadata": {},
   "source": [
    "### Thanks for completing this lesson!\n",
    "\n",
    "This is the end of **Logistic Regression with TensorFlow** notebook. Hopefully, now you have a deeper understanding of Logistic Regression and how its structure and flow work. Thank you for reading this notebook and good luck on your studies."
   ]
  },
  {
   "cell_type": "markdown",
   "metadata": {},
   "source": [
    "Created by: <a href = \"https://br.linkedin.com/in/walter-gomes-de-amorim-junior-624726121\">Walter Gomes de Amorim Junior</a> , <a href = \"https://br.linkedin.com/in/walter-gomes-de-amorim-junior-624726121\">Saeed Aghabozorgi</a> , <a href = \"https://br.linkedin.com/in/victor-barros-2446a390\">Victor Barros Costa</a>\n"
   ]
  },
  {
   "cell_type": "markdown",
   "metadata": {},
   "source": [
    "<hr>\n",
    "Copyright &copy; 2016 [Big Data University](https://bigdatauniversity.com/?utm_source=bducopyrightlink&utm_medium=dswb&utm_campaign=bdu). This notebook and its source code are released under the terms of the [MIT License](https://bigdatauniversity.com/mit-license/)."
   ]
  }
 ],
 "metadata": {
  "kernelspec": {
   "display_name": "Python [conda env:tensorflow2]",
   "language": "python",
   "name": "conda-env-tensorflow2-py"
  },
  "language_info": {
   "codemirror_mode": {
    "name": "ipython",
    "version": 2
   },
   "file_extension": ".py",
   "mimetype": "text/x-python",
   "name": "python",
   "nbconvert_exporter": "python",
   "pygments_lexer": "ipython2",
   "version": "2.7.13"
  },
  "widgets": {
   "state": {},
   "version": "1.1.2"
  }
 },
 "nbformat": 4,
 "nbformat_minor": 1
}
